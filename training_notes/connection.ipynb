{
 "cells": [
  {
   "cell_type": "markdown",
   "metadata": {
    "collapsed": true,
    "slideshow": {
     "slide_type": "slide"
    }
   },
   "source": [
    "# Python in a notebook\n",
    "\n",
    " \n",
    "if needed enter inside the esrf network:\n",
    "* https://nx.esrf.fr/nxwebplayer\n",
    "* Open a web browser and connect to:\n",
    "     * http://scisoft12.esrf.fr:8000/\n",
    "     * Login with your ESRF credentials\n",
    "\n",
    "![nxwebplayer](images/nxwebplayer.png)\n"
   ]
  },
  {
   "cell_type": "code",
   "execution_count": null,
   "metadata": {},
   "outputs": [],
   "source": []
  }
 ],
 "metadata": {
  "celltoolbar": "Slideshow",
  "kernelspec": {
   "display_name": "Python 3",
   "language": "python",
   "name": "python3"
  },
  "language_info": {
   "codemirror_mode": {
    "name": "ipython",
    "version": 3
   },
   "file_extension": ".py",
   "mimetype": "text/x-python",
   "name": "python",
   "nbconvert_exporter": "python",
   "pygments_lexer": "ipython3",
   "version": "3.5.2"
  }
 },
 "nbformat": 4,
 "nbformat_minor": 2
}
