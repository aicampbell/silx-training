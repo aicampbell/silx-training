{
 "cells": [
  {
   "cell_type": "markdown",
   "metadata": {},
   "source": [
    "# Introduction to numpy\n",
    "\n",
    "Credits: V. A. Sole, ESRF Software Group"
   ]
  },
  {
   "cell_type": "markdown",
   "metadata": {},
   "source": [
    "## Summary\n",
    "\n",
    "* introduction\n",
    "* numpy generalities\n",
    "* numpy arrays\n",
    "    * creating arrays\n",
    "    * saving loading arrays\n",
    "    * using arrays\n",
    "* numpy modules"
   ]
  },
  {
   "cell_type": "markdown",
   "metadata": {},
   "source": [
    "# Introduction\n",
    "## Python basic operators\n",
    "\n",
    "* `+`: addition\n",
    "* `-`: soustraction\n",
    "* `/`: division\n",
    "* `x//y`: integer part of x/y\n",
    "* `**`: exponentiation\n",
    "* abs(x): absolute value of x\n",
    "* `x%y` remaining of x/y"
   ]
  },
  {
   "cell_type": "code",
   "execution_count": null,
   "metadata": {
    "collapsed": true
   },
   "outputs": [],
   "source": [
    "a = 2\n",
    "b = 3"
   ]
  },
  {
   "cell_type": "code",
   "execution_count": null,
   "metadata": {
    "collapsed": false
   },
   "outputs": [],
   "source": [
    "a + b"
   ]
  },
  {
   "cell_type": "code",
   "execution_count": null,
   "metadata": {
    "collapsed": false
   },
   "outputs": [],
   "source": [
    "a - b"
   ]
  },
  {
   "cell_type": "code",
   "execution_count": null,
   "metadata": {
    "collapsed": false
   },
   "outputs": [],
   "source": [
    "a / b"
   ]
  },
  {
   "cell_type": "code",
   "execution_count": null,
   "metadata": {
    "collapsed": false
   },
   "outputs": [],
   "source": [
    "a // b"
   ]
  },
  {
   "cell_type": "code",
   "execution_count": null,
   "metadata": {
    "collapsed": false
   },
   "outputs": [],
   "source": [
    "b**a"
   ]
  },
  {
   "cell_type": "code",
   "execution_count": null,
   "metadata": {
    "collapsed": false
   },
   "outputs": [],
   "source": [
    "abs(-a)"
   ]
  },
  {
   "cell_type": "code",
   "execution_count": null,
   "metadata": {
    "collapsed": false
   },
   "outputs": [],
   "source": [
    "2%3"
   ]
  },
  {
   "cell_type": "markdown",
   "metadata": {},
   "source": [
    "## Python basic high level data types\n",
    "\n",
    "* numbers: 10, 10.0, 1.0e+01, (10.0+3j)\n",
    "* strings: \"Hello world\"\n",
    "* bytes: b\"Hello world\"\n",
    "* list: ['abc', 3, 'x']\n",
    "* tuples: ('abc', 3, 'x')\n",
    "* dictionnaries: {'key1': 'abc', 'key2': 3, 'key3': 'x'}"
   ]
  },
  {
   "cell_type": "code",
   "execution_count": null,
   "metadata": {
    "collapsed": false
   },
   "outputs": [],
   "source": [
    "1.0e+01 + 1"
   ]
  },
  {
   "cell_type": "code",
   "execution_count": null,
   "metadata": {
    "collapsed": false
   },
   "outputs": [],
   "source": [
    "type(\"Hello world\")"
   ]
  },
  {
   "cell_type": "code",
   "execution_count": null,
   "metadata": {
    "collapsed": false
   },
   "outputs": [],
   "source": [
    "type(b\"Hello world\")"
   ]
  },
  {
   "cell_type": "code",
   "execution_count": null,
   "metadata": {
    "collapsed": false
   },
   "outputs": [],
   "source": [
    "print({'key1': 'abc', 'key2': 3, 'key3': 'x'})"
   ]
  },
  {
   "cell_type": "markdown",
   "metadata": {},
   "source": [
    "## Exercice 1\n",
    "if a = [1, 2, 3], what are the results of:\n",
    "\n",
    "* `2 * a[2]` ?\n",
    "* `2 * a` ?\n",
    "\n",
    "Combine operations and data types and comment your findings."
   ]
  },
  {
   "cell_type": "code",
   "execution_count": null,
   "metadata": {
    "collapsed": false
   },
   "outputs": [],
   "source": [
    "a = [1, 2, 3]\n",
    "print(2*a[2])\n",
    "print(2*a)"
   ]
  },
  {
   "cell_type": "markdown",
   "metadata": {},
   "source": [
    "## Conclusion\n",
    "\n",
    "without additional libraries python is almost useless for scientific computing"
   ]
  },
  {
   "cell_type": "markdown",
   "metadata": {},
   "source": [
    "# Numpy generalities\n",
    "\n",
    "numpy is THE library providing number crunching capabilities to python\n",
    "It extends Python providing tools for:\n",
    "\n",
    "* Treatment of multi-dimensional data\n",
    "* Access to optimized linear algebra libraries\n",
    "* Encapsulation of C and Fortran code\n",
    "\n",
    "\n",
    "# Numpy arrays\n",
    "\n",
    "## the numpy ndarray objects\n",
    "\n",
    "The (nd)array object is:\n",
    "\n",
    "* a collection of elements of the same type. Can be any type of data.\n",
    "* implemented in memory as a true table optimized for performance\n",
    "* handled as any other Python object\n",
    "* multidimensional, meaning:\n",
    "\n",
    "    * dimensions can be modified, flexible indexation\n",
    "    * internal optimization for 1D, 2D and 3D\n"
   ]
  },
  {
   "cell_type": "code",
   "execution_count": null,
   "metadata": {
    "collapsed": true
   },
   "outputs": [],
   "source": [
    "import numpy"
   ]
  },
  {
   "cell_type": "markdown",
   "metadata": {},
   "source": [
    "## creating arrays\n",
    "### from numpy.array"
   ]
  },
  {
   "cell_type": "code",
   "execution_count": null,
   "metadata": {
    "collapsed": false
   },
   "outputs": [],
   "source": [
    "? numpy.array"
   ]
  },
  {
   "cell_type": "markdown",
   "metadata": {},
   "source": [
    "create an array from a list of values"
   ]
  },
  {
   "cell_type": "code",
   "execution_count": null,
   "metadata": {
    "collapsed": false
   },
   "outputs": [],
   "source": [
    "arr = numpy.array([1, 2, 3, 5, 7, 11, 13, 17])\n",
    "print(arr)"
   ]
  },
  {
   "cell_type": "code",
   "execution_count": null,
   "metadata": {
    "collapsed": false
   },
   "outputs": [],
   "source": [
    "arr.reshape(2, 4)"
   ]
  },
  {
   "cell_type": "markdown",
   "metadata": {},
   "source": [
    "create an array from a list of values and dimensions"
   ]
  },
  {
   "cell_type": "code",
   "execution_count": null,
   "metadata": {
    "collapsed": false
   },
   "outputs": [],
   "source": [
    "numpy.array([[1, 2, 3, 5], [7, 11, 13, 17]])"
   ]
  },
  {
   "cell_type": "markdown",
   "metadata": {},
   "source": [
    "specifying the type of element"
   ]
  },
  {
   "cell_type": "code",
   "execution_count": null,
   "metadata": {
    "collapsed": false
   },
   "outputs": [],
   "source": [
    "numpy.array([[1, 2, 3, 5], [7, 11, 13, 17]])"
   ]
  },
  {
   "cell_type": "markdown",
   "metadata": {},
   "source": [
    "### from dedicated methods"
   ]
  },
  {
   "cell_type": "code",
   "execution_count": null,
   "metadata": {
    "collapsed": false
   },
   "outputs": [],
   "source": [
    "numpy.empty((2, 4))"
   ]
  },
  {
   "cell_type": "code",
   "execution_count": null,
   "metadata": {
    "collapsed": false
   },
   "outputs": [],
   "source": [
    "numpy.zeros((2, 4))"
   ]
  },
  {
   "cell_type": "code",
   "execution_count": null,
   "metadata": {
    "collapsed": false
   },
   "outputs": [],
   "source": [
    "numpy.ones((2, 4))"
   ]
  },
  {
   "cell_type": "code",
   "execution_count": null,
   "metadata": {
    "collapsed": false
   },
   "outputs": [],
   "source": [
    "numpy.arange(start=0, stop=10, step=1)"
   ]
  },
  {
   "cell_type": "code",
   "execution_count": null,
   "metadata": {
    "collapsed": false
   },
   "outputs": [],
   "source": [
    "numpy.linspace(start=1, stop=10, num=10, endpoint=True)"
   ]
  },
  {
   "cell_type": "code",
   "execution_count": null,
   "metadata": {
    "collapsed": false
   },
   "outputs": [],
   "source": [
    "numpy.identity(4)"
   ]
  },
  {
   "cell_type": "markdown",
   "metadata": {},
   "source": [
    "### types of elements\n",
    "\n",
    "#### traditional types\n",
    "\n",
    "As we said previously, numpy arrays can deal with any kind of python object:\n",
    "\n",
    "* python integers and real numbers (int, float)\n",
    "* Complex\n",
    "* Chains of characters\n",
    "* Any python object (object).\n",
    "* numpy integers and real numbers (numpy.int32, numpy.int64, numpy.float32, numpy.float64 ...)\n",
    "* numpy complex (numpy.complex64: corresponds to two 32 bits floats, one for real part and one for imaginary)\n",
    "\n",
    "\n",
    "You can specify type during array construction or load using the `dtype` parameter"
   ]
  },
  {
   "cell_type": "code",
   "execution_count": null,
   "metadata": {
    "collapsed": false
   },
   "outputs": [],
   "source": [
    "print(numpy.arange(2, dtype=numpy.float64))\n",
    "print(numpy.arange(2, dtype=numpy.int32))\n",
    "print(numpy.arange(2, dtype=numpy.complex))"
   ]
  },
  {
   "cell_type": "markdown",
   "metadata": {},
   "source": [
    "!!! Types should be specify to insure portability !!!\n",
    "\n",
    "#### arrays of object\n",
    "\n",
    "numpy arrays can contain any type of object"
   ]
  },
  {
   "cell_type": "code",
   "execution_count": null,
   "metadata": {
    "collapsed": false
   },
   "outputs": [],
   "source": [
    "a = dict({'key1': 0})\n",
    "b = dict({'key2': 1})\n",
    "c = dict({'key3': 2})\n",
    "numpy.array([a, b, c])"
   ]
  },
  {
   "cell_type": "markdown",
   "metadata": {},
   "source": [
    "#### record arrays\n",
    "\n",
    "They allow access to the data using named fields.\n",
    "Imagine your data being a spreadsheet, the field names would be the column heading."
   ]
  },
  {
   "cell_type": "code",
   "execution_count": null,
   "metadata": {
    "collapsed": false
   },
   "outputs": [],
   "source": [
    "img = numpy.zeros(\n",
    "    (2,2),\n",
    "    {\n",
    "        'names': ('r','g','b'),\n",
    "        'formats': (numpy.float32, numpy.float32, numpy.float32)\n",
    "    })\n",
    "img['r']"
   ]
  },
  {
   "cell_type": "markdown",
   "metadata": {},
   "source": [
    "## save and load arrays\n",
    "### using a numpy file (.npy) - binary file"
   ]
  },
  {
   "cell_type": "code",
   "execution_count": null,
   "metadata": {
    "collapsed": false
   },
   "outputs": [],
   "source": [
    "a = numpy.arange(start=0, stop=10, step=1, dtype=numpy.int32)\n",
    "numpy.save('data.npy', a)"
   ]
  },
  {
   "cell_type": "code",
   "execution_count": null,
   "metadata": {
    "collapsed": false
   },
   "outputs": [],
   "source": [
    "numpy.load('data.npy')"
   ]
  },
  {
   "cell_type": "markdown",
   "metadata": {},
   "source": [
    "### using text file"
   ]
  },
  {
   "cell_type": "code",
   "execution_count": null,
   "metadata": {
    "collapsed": false
   },
   "outputs": [],
   "source": [
    "numpy.savetxt('myarray.txt', a)"
   ]
  },
  {
   "cell_type": "code",
   "execution_count": null,
   "metadata": {
    "collapsed": false
   },
   "outputs": [],
   "source": [
    "numpy.loadtxt('myarray.txt', dtype=numpy.int32)"
   ]
  },
  {
   "cell_type": "markdown",
   "metadata": {},
   "source": [
    "Note: \n",
    "\n",
    "* Each row in the text file must have the same number of values.\n",
    "* Several other options exists. Here is the full function signature:\n",
    "\n",
    "`loadtxt(fname, dtype=<type 'float'>,\n",
    "         comments='#', delimiter=None,\n",
    "         converters=None, skiprows=0,\n",
    "         usecols=None, unpack=False, ndmin=0)`"
   ]
  },
  {
   "cell_type": "markdown",
   "metadata": {},
   "source": [
    "## Exercice 2\n",
    "\n",
    "Use python as a simple calculator and try the basic operations\n",
    "on different arrays of numbers (integers, floats, ...)."
   ]
  },
  {
   "cell_type": "code",
   "execution_count": null,
   "metadata": {
    "collapsed": true
   },
   "outputs": [],
   "source": [
    "import numpy\n",
    "a = [1, 2, 3]\n",
    "b = numpy.array(a)"
   ]
  },
  {
   "cell_type": "markdown",
   "metadata": {},
   "source": [
    "* do you remenber the result of 2 * a[2] ?\n",
    "* do you remenber the result of 2 * a ?"
   ]
  },
  {
   "cell_type": "markdown",
   "metadata": {},
   "source": [
    "* what is the result of 2 * b[2] ?"
   ]
  },
  {
   "cell_type": "code",
   "execution_count": null,
   "metadata": {
    "collapsed": false
   },
   "outputs": [],
   "source": [
    "2 * b[2]"
   ]
  },
  {
   "cell_type": "markdown",
   "metadata": {},
   "source": [
    "* what is the result of 2 * b ?"
   ]
  },
  {
   "cell_type": "code",
   "execution_count": null,
   "metadata": {
    "collapsed": false
   },
   "outputs": [],
   "source": [
    "2 * b"
   ]
  },
  {
   "cell_type": "markdown",
   "metadata": {},
   "source": [
    "* what is the result of b / 2.0 ?"
   ]
  },
  {
   "cell_type": "code",
   "execution_count": null,
   "metadata": {
    "collapsed": false
   },
   "outputs": [],
   "source": [
    "b / 2.0"
   ]
  },
  {
   "cell_type": "markdown",
   "metadata": {},
   "source": [
    "## using arrays\n",
    "\n",
    "### indexing\n",
    "\n",
    "One can select elements as with any other Python sequence:\n",
    "\n",
    "* Indexing starts at 0 for each array dimension\n",
    "* Indexes can be negative: x[-1] is the same as x[len(x) - 1]\n",
    "\n",
    "The output refers to the original array and usually it is not contiguous in memory."
   ]
  },
  {
   "cell_type": "code",
   "execution_count": null,
   "metadata": {
    "collapsed": false
   },
   "outputs": [],
   "source": [
    "a = numpy.array([\n",
    "    (1, 2, 3, 4),\n",
    "    (5, 6, 7, 8),\n",
    "    (9, 10, 11, 12)\n",
    "    ])"
   ]
  },
  {
   "cell_type": "code",
   "execution_count": null,
   "metadata": {
    "collapsed": false
   },
   "outputs": [],
   "source": [
    "a[1, 2]"
   ]
  },
  {
   "cell_type": "code",
   "execution_count": null,
   "metadata": {
    "collapsed": false
   },
   "outputs": [],
   "source": [
    "a[0:2, 2]"
   ]
  },
  {
   "cell_type": "code",
   "execution_count": null,
   "metadata": {
    "collapsed": false
   },
   "outputs": [],
   "source": [
    "a[2] # all the elements of the fourth row"
   ]
  },
  {
   "cell_type": "code",
   "execution_count": null,
   "metadata": {
    "collapsed": false
   },
   "outputs": [],
   "source": [
    "a[:, 2] # same as previous assuming a has at least two dimensions"
   ]
  },
  {
   "cell_type": "code",
   "execution_count": null,
   "metadata": {
    "collapsed": false
   },
   "outputs": [],
   "source": [
    "a[0, -1]  # last element of the first row"
   ]
  },
  {
   "cell_type": "code",
   "execution_count": null,
   "metadata": {
    "collapsed": false
   },
   "outputs": [],
   "source": [
    "a[0:2, 0:4:2]  # slicing allowed"
   ]
  },
  {
   "cell_type": "code",
   "execution_count": null,
   "metadata": {
    "collapsed": true
   },
   "outputs": [],
   "source": [
    "a[0:2, :] = 5  # assignation is also possible"
   ]
  },
  {
   "cell_type": "markdown",
   "metadata": {},
   "source": [
    "The indexation argument is a list or an array:"
   ]
  },
  {
   "cell_type": "code",
   "execution_count": null,
   "metadata": {
    "collapsed": false
   },
   "outputs": [],
   "source": [
    "a = numpy.arange(10., 18.)\n",
    "print(a)\n",
    "a[[2, 5]]"
   ]
  },
  {
   "cell_type": "markdown",
   "metadata": {},
   "source": [
    "The indexation argument can be a logical array:"
   ]
  },
  {
   "cell_type": "code",
   "execution_count": null,
   "metadata": {
    "collapsed": false
   },
   "outputs": [],
   "source": [
    "a[a>13]"
   ]
  },
  {
   "cell_type": "markdown",
   "metadata": {},
   "source": [
    "## Excercise 3\n",
    "\n",
    "if:\n",
    "\n",
    "* x = numpy.arange(10)\n",
    "* y = numpy.arange(1, 11)\n",
    "\n",
    "then:\n",
    "\n",
    "* Calculate the element-wise difference between x and y?\n",
    "* Provide an expression to calculate the difference x[i+1]-x[i] for all the elements of the 1D array."
   ]
  },
  {
   "cell_type": "markdown",
   "metadata": {},
   "source": [
    "#### Solution"
   ]
  },
  {
   "cell_type": "code",
   "execution_count": null,
   "metadata": {
    "collapsed": false
   },
   "outputs": [],
   "source": [
    "import exercicesolution\n",
    "import inspect\n",
    "print('element wise difference solution')\n",
    "print(inspect.getsource(exercicesolution.ex3_1))\n",
    "exercicesolution.ex3_1()"
   ]
  },
  {
   "cell_type": "code",
   "execution_count": null,
   "metadata": {
    "collapsed": false
   },
   "outputs": [],
   "source": [
    "print('difference of X[i+1]-X[i]')\n",
    "print(inspect.getsource(exercicesolution.ex3_2))\n",
    "exercicesolution.ex3_2()"
   ]
  },
  {
   "cell_type": "markdown",
   "metadata": {},
   "source": [
    "### array attributes"
   ]
  },
  {
   "cell_type": "code",
   "execution_count": null,
   "metadata": {
    "collapsed": false
   },
   "outputs": [],
   "source": [
    "a = numpy.array([[3, 2], [8, 12]])"
   ]
  },
  {
   "cell_type": "markdown",
   "metadata": {},
   "source": [
    "**dtype**: Identifies the type of the elements of the array"
   ]
  },
  {
   "cell_type": "code",
   "execution_count": null,
   "metadata": {
    "collapsed": false
   },
   "outputs": [],
   "source": [
    "a.dtype"
   ]
  },
  {
   "cell_type": "code",
   "execution_count": null,
   "metadata": {
    "collapsed": false
   },
   "outputs": [],
   "source": [
    "a.dtype.char"
   ]
  },
  {
   "cell_type": "markdown",
   "metadata": {},
   "source": [
    "**shape**: Tuple containing the array dimensions. It is a Read and Write attribute."
   ]
  },
  {
   "cell_type": "code",
   "execution_count": null,
   "metadata": {
    "collapsed": false
   },
   "outputs": [],
   "source": [
    "a.shape"
   ]
  },
  {
   "cell_type": "code",
   "execution_count": null,
   "metadata": {
    "collapsed": false
   },
   "outputs": [],
   "source": [
    "numpy.shape(a)"
   ]
  },
  {
   "cell_type": "markdown",
   "metadata": {},
   "source": [
    "**T**: transposed view of the array"
   ]
  },
  {
   "cell_type": "code",
   "execution_count": null,
   "metadata": {
    "collapsed": false
   },
   "outputs": [],
   "source": [
    "a.T"
   ]
  },
  {
   "cell_type": "markdown",
   "metadata": {},
   "source": [
    "exists also as:"
   ]
  },
  {
   "cell_type": "code",
   "execution_count": null,
   "metadata": {
    "collapsed": false
   },
   "outputs": [],
   "source": [
    "a.transpose()\n",
    "numpy.transpose(a)"
   ]
  },
  {
   "cell_type": "markdown",
   "metadata": {},
   "source": [
    "### advanced attributes\n",
    "\n",
    "* itemsize: Size of a single item, also the size of dtype\n",
    "* size: Total number of element in the nd_array: prod(shape)\n",
    "* strides: Tuple of bytes to step in each dimension when traversing an array\n",
    "* flags: Information about the contiguity of the data in the buffer\n",
    "* nbytes: Size in bytes occupied by the buffer in memory: size*itemsize\n",
    "* ndim: Number of dimensions of the nd_array: len(shape)\n",
    "* data: The read/write buffer containing actually the data\n"
   ]
  },
  {
   "cell_type": "markdown",
   "metadata": {},
   "source": [
    "### Methods\n",
    "\n",
    "There are methods associated to the arrays \n",
    "\n",
    "* a.reshape() Returns a view of the array with a different shape\n",
    "* a.min() Returns the minimum of the array\n",
    "* a.max() Returns the maximum of the array\n",
    "* a.sort() Sorts an array in-place: returns None\n",
    "* a.sum() Returns the sum of the elements of the array\n",
    "* a.sum(axis=None, dtype=None, out=None) Perform the sum along a specified axis\n",
    "\n",
    "There are functions associated to the module: dir(numpy) Many methods are available in both forms:"
   ]
  },
  {
   "cell_type": "code",
   "execution_count": null,
   "metadata": {
    "collapsed": true
   },
   "outputs": [],
   "source": [
    "b = a.copy()\n",
    "b = numpy.copy(a)\n",
    "b = numpy.array(a, copy=True)"
   ]
  },
  {
   "cell_type": "markdown",
   "metadata": {},
   "source": [
    "### Views\n",
    "\n",
    "here c is a new object but pointing to the same buffer as a"
   ]
  },
  {
   "cell_type": "code",
   "execution_count": null,
   "metadata": {
    "collapsed": false
   },
   "outputs": [],
   "source": [
    "a = numpy.arange(10.)\n",
    "a.shape = (2, 5)\n",
    "c = a.T\n",
    "print(a[1, 2])\n",
    "c[2, 1] = 10\n",
    "print(a[1, 2])"
   ]
  },
  {
   "cell_type": "markdown",
   "metadata": {},
   "source": [
    "An other example:"
   ]
  },
  {
   "cell_type": "code",
   "execution_count": null,
   "metadata": {
    "collapsed": false
   },
   "outputs": [],
   "source": [
    "b = a[:]\n",
    "b.shape = -1\n",
    "print(b.shape) # makes whatever needed to get the matching number\n",
    "print(a.shape)\n",
    "print(a[0, 0])\n",
    "b[0] = 25\n",
    "print(a[0, 0])"
   ]
  },
  {
   "cell_type": "markdown",
   "metadata": {},
   "source": [
    "### Exercise 4\n",
    "\n",
    "perform a 2x2 binning of an image\n",
    "\n",
    "* 1D binning:\n",
    "    1. generate an array with 100 elements stored in increasing order from 0 to 99\n",
    "\n",
    "| 1  | 2  | 3  | 4  |\n",
    "|----|----|----|----|\n",
    "| 5  | 6  | 7  | 8  |\n",
    "| 9  | 10 | 11 | 12 |\n",
    "| 13 | 14 | 15 | 16 |\n",
    "\n",
    "    2. perform the binning of the 1D array such as: 1 2 3 4 -> 1+2 3+4\n",
    "    \n",
    "| 1+2+5+6    | 3+4+7+8     |\n",
    "|------------|-------------|\n",
    "| 9+10+13+14 | 11+12+15+16 |\n",
    "    \n",
    "* 2D binning:\n",
    "    * generate a 100x100 array with elements in increasing order\n",
    "    * perform a 2x2 binning"
   ]
  },
  {
   "cell_type": "markdown",
   "metadata": {},
   "source": [
    "#### Solution"
   ]
  },
  {
   "cell_type": "code",
   "execution_count": null,
   "metadata": {
    "collapsed": false
   },
   "outputs": [],
   "source": [
    "import exercicesolution\n",
    "import inspect\n",
    "print('1D array binning')\n",
    "print(inspect.getsource(exercicesolution.ex4_1))\n",
    "rawdata, bind = exercicesolution.ex4_1()\n",
    "print(rawdata)\n",
    "print(bind)"
   ]
  },
  {
   "cell_type": "code",
   "execution_count": null,
   "metadata": {
    "collapsed": false
   },
   "outputs": [],
   "source": [
    "import exercicesolution\n",
    "import inspect\n",
    "print('2D array binning')\n",
    "print(inspect.getsource(exercicesolution.ex4_2))\n",
    "rawdata, bind = exercicesolution.ex4_2()\n",
    "print(rawdata)\n",
    "print(bind)"
   ]
  },
  {
   "cell_type": "code",
   "execution_count": null,
   "metadata": {
    "collapsed": false
   },
   "outputs": [],
   "source": [
    "import exercicesolution\n",
    "import inspect\n",
    "print('alternative 2D array binning')\n",
    "print(inspect.getsource(exercicesolution.ex4_2_alt))\n",
    "rawdata, bind = exercicesolution.ex4_2_alt()\n",
    "print(rawdata)\n",
    "print(bind)"
   ]
  },
  {
   "cell_type": "markdown",
   "metadata": {},
   "source": [
    "# Numpy modules\n",
    "\n",
    "reference: https://docs.scipy.org/doc/numpy/reference/\n",
    "\n",
    "## array operations"
   ]
  },
  {
   "cell_type": "markdown",
   "metadata": {},
   "source": [
    "**numpy.argsort**\n",
    "return the sorted indices. array stay unchanged"
   ]
  },
  {
   "cell_type": "code",
   "execution_count": null,
   "metadata": {
    "collapsed": false
   },
   "outputs": [],
   "source": [
    "a = [2, 5, 3]\n",
    "idx = numpy.argsort(a)\n",
    "print(idx)\n",
    "a"
   ]
  },
  {
   "cell_type": "markdown",
   "metadata": {},
   "source": [
    "comple signature is : numpy.argsort(a, axis=-1, kind='quicksort', order=None)"
   ]
  },
  {
   "cell_type": "code",
   "execution_count": null,
   "metadata": {
    "collapsed": false
   },
   "outputs": [],
   "source": [
    "numpy.take(a, idx)"
   ]
  },
  {
   "cell_type": "markdown",
   "metadata": {},
   "source": [
    "numpy.take returns a new sorted array. Full signature is: numpy.argsort(a, axis=-1, kind='quicksort', order=None)"
   ]
  },
  {
   "cell_type": "markdown",
   "metadata": {},
   "source": [
    "All standard operations when applied to arrays, operate element by element.\n",
    "\n",
    "Common operations are:\n",
    "    \n",
    "* Linear algebra\n",
    "    * numpy.dot(a, b) --> standard linear algebra matrix multiplication\n",
    "    * numpy.inner(a, b)  --> inner product\n",
    "    * numpy.outer(a, b)  --> outer product\n",
    "* Statistics: mean, std, median, percentile\n",
    "* Sums: sum, cumsum\n",
    "* Trigonometric functions: cos, sin, arctan, ...\n",
    "* Interpolation: interp\n",
    "* Indexing, Logic functions, Sorting, ...\n",
    "* ..."
   ]
  },
  {
   "cell_type": "code",
   "execution_count": null,
   "metadata": {
    "collapsed": false
   },
   "outputs": [],
   "source": [
    "a = numpy.arange(1, 10).reshape(3, 3)\n",
    "b = numpy.ones((3, 3)) + 1\n",
    "print(numpy.dot(a, b))\n",
    "print(numpy.std(a.ravel()))"
   ]
  },
  {
   "cell_type": "markdown",
   "metadata": {},
   "source": [
    "## Linear algebra (numpy.linalg)\n",
    "\n",
    "As usual, dir() and help() are your friends... The operations you will usually use:\n",
    "\n",
    "* numpy.linalg.det(x) --> determinant of x\n",
    "* numpy.linalg.eig(x) --> returns the eigenvalues and eigenvectors of x\n",
    "* numpy.linalg.eigh(x) --> idem profiting of x being a hermitian matrix\n",
    "* numpy.linalg.inv(x) --> inverse matrix of x\n",
    "* numpy.linalg.svd(x) --> singular value decomposition of x\n",
    "\n",
    "But also the one presented previously:\n",
    "\n",
    "* numpy.dot(a, b)\n",
    "* numpy.inner(a, b)\n",
    "* numpy.outer(a, b)\n"
   ]
  },
  {
   "cell_type": "markdown",
   "metadata": {},
   "source": [
    "## Random sampling (numpy.random)\n",
    "\n",
    "### Generation of simple random data:"
   ]
  },
  {
   "cell_type": "code",
   "execution_count": null,
   "metadata": {
    "collapsed": true
   },
   "outputs": [],
   "source": [
    "import numpy.random"
   ]
  },
  {
   "cell_type": "code",
   "execution_count": null,
   "metadata": {
    "collapsed": false
   },
   "outputs": [],
   "source": [
    "numpy.random.randint(low=0, high=5, size=10) # random integers in the interval [low:high["
   ]
  },
  {
   "cell_type": "code",
   "execution_count": null,
   "metadata": {
    "collapsed": false
   },
   "outputs": [],
   "source": [
    "numpy.random.random(10) # random floats in the half-open interval [0.0:1.0[."
   ]
  },
  {
   "cell_type": "code",
   "execution_count": null,
   "metadata": {
    "collapsed": false
   },
   "outputs": [],
   "source": [
    "numpy.random.bytes(1) # random bytes"
   ]
  },
  {
   "cell_type": "markdown",
   "metadata": {},
   "source": [
    "### Permutations\n",
    "\n",
    "* **shuffle(x)** --> modify a sequence in-place by shuffling its contents."
   ]
  },
  {
   "cell_type": "code",
   "execution_count": null,
   "metadata": {
    "collapsed": false
   },
   "outputs": [],
   "source": [
    "a = numpy.arange(1, 10).reshape(3, 3)\n",
    "print(a)\n",
    "numpy.random.shuffle(a)\n",
    "print(a)"
   ]
  },
  {
   "cell_type": "markdown",
   "metadata": {},
   "source": [
    "* **permutation(x)** --> Randomly permute a sequence, or return a permuted range."
   ]
  },
  {
   "cell_type": "code",
   "execution_count": null,
   "metadata": {
    "collapsed": false
   },
   "outputs": [],
   "source": [
    "a = numpy.arange(1, 10).reshape(3, 3)\n",
    "print(numpy.random.permutation(a))\n",
    "print(a)"
   ]
  },
  {
   "cell_type": "markdown",
   "metadata": {},
   "source": [
    "### Distributions\n",
    "\n",
    "* beta\n",
    "* binomial\n",
    "* chisquare\n",
    "* dirichlet\n",
    "* exponential\n",
    "* ..."
   ]
  },
  {
   "cell_type": "code",
   "execution_count": null,
   "metadata": {
    "collapsed": false
   },
   "outputs": [],
   "source": [
    "numpy.random.beta(a=0.5, b=1, size=40)"
   ]
  },
  {
   "cell_type": "markdown",
   "metadata": {},
   "source": [
    "### Discrete Fourier Transform (numpy.fft)\n",
    "\n",
    "* **numpy.fft.fft** --> 1D FFT\n",
    "* **numpy.fft.fft2** --> 2D FFT\n",
    "* **numpy.fft.fftn** --> nD FFT"
   ]
  },
  {
   "cell_type": "code",
   "execution_count": null,
   "metadata": {
    "collapsed": false
   },
   "outputs": [],
   "source": [
    "? numpy.fft.fft"
   ]
  },
  {
   "cell_type": "markdown",
   "metadata": {},
   "source": [
    "### Polynomials (numpy.polynomial)\n",
    "\n",
    "Polynomials in NumPy can be created, manipulated, and even fitted.\n",
    "\n",
    "Polynomial Package\n",
    "\n",
    "* Using the Convenience Classes\n",
    "* Polynomial Module (numpy.polynomial.polynomial)\n",
    "* Chebyshev Module (numpy.polynomial.chebyshev)\n",
    "* Legendre Module (numpy.polynomial.legendre)\n",
    "* Laguerre Module (numpy.polynomial.laguerre)\n",
    "* Hermite Module, \"Physicists\" (numpy.polynomial.hermite)\n",
    "* HermiteE Module, \"Probabilists\" (numpy.polynomial.hermite_e)\n"
   ]
  },
  {
   "cell_type": "code",
   "execution_count": null,
   "metadata": {
    "collapsed": true
   },
   "outputs": [],
   "source": [
    "import numpy.polynomial"
   ]
  },
  {
   "cell_type": "markdown",
   "metadata": {},
   "source": [
    "## Exercice 5\n",
    "\n",
    "* write a function fill_array(height, width) to generate an array of dimension (height, width) in which X[row, column] = cos(row) * sin(column)\n",
    "* time it for n=1000, m = 1000\n",
    "* extra: Do the same for X[row, column] = cos(row) + sin(column)"
   ]
  },
  {
   "cell_type": "code",
   "execution_count": null,
   "metadata": {
    "collapsed": false
   },
   "outputs": [],
   "source": [
    "# inefficient fill\n",
    "import exercicesolution\n",
    "import inspect\n",
    "print('inefficient fill')\n",
    "print(inspect.getsource(exercicesolution.ex5_inefficient_fill))\n",
    "%timeit exercicesolution.ex5_inefficient_fill(10, 10)"
   ]
  },
  {
   "cell_type": "code",
   "execution_count": null,
   "metadata": {
    "collapsed": false
   },
   "outputs": [],
   "source": [
    "# naive fill\n",
    "print('naive fill')\n",
    "print(inspect.getsource(exercicesolution.ex5_naive_fill))\n",
    "%timeit exercicesolution.ex5_naive_fill(10, 10)"
   ]
  },
  {
   "cell_type": "code",
   "execution_count": null,
   "metadata": {
    "collapsed": false
   },
   "outputs": [],
   "source": [
    "# clever fill\n",
    "print('clever fill')\n",
    "print(inspect.getsource(exercicesolution.ex5_clever_fill))\n",
    "%timeit exercicesolution.ex5_clever_fill(10, 10)"
   ]
  },
  {
   "cell_type": "code",
   "execution_count": null,
   "metadata": {
    "collapsed": false
   },
   "outputs": [],
   "source": [
    "# practical fill\n",
    "print('practical fill')\n",
    "print(inspect.getsource(exercicesolution.ex5_practical_fill))\n",
    "%timeit exercicesolution.ex5_practical_fill(10, 10)"
   ]
  },
  {
   "cell_type": "code",
   "execution_count": null,
   "metadata": {
    "collapsed": false
   },
   "outputs": [],
   "source": [
    "# optimized fill\n",
    "print('optimized fill')\n",
    "print(inspect.getsource(exercicesolution.ex5_optimized_fill))\n",
    "%timeit exercicesolution.ex5_optimized_fill(10, 10)"
   ]
  },
  {
   "cell_type": "code",
   "execution_count": null,
   "metadata": {
    "collapsed": false
   },
   "outputs": [],
   "source": [
    "# atleast_2d fill\n",
    "print('atleast_2d fill')\n",
    "print(inspect.getsource(exercicesolution.ex5_atleast_2d_fill))\n",
    "%timeit exercicesolution.ex5_atleast_2d_fill(10, 10)"
   ]
  },
  {
   "cell_type": "markdown",
   "metadata": {},
   "source": [
    "Some results obtained on Intel(R) Xeon(R) CPU E5-1650 @ 3.50GHz:\n",
    "    \n",
    "| Implementation       | Duration (seconds) |\n",
    "|----------------------|--------------------|\n",
    "| ex5_inefficient_fill | 5.052937           |\n",
    "| ex5_naive_fill       | 0.886003           |\n",
    "| ex5_clever_fill      | 0.016836           |\n",
    "| ex5_practical_fill   | 0.014959           |\n",
    "| ex5_optimized_fill   | 0.004497           |\n",
    "| ex5_atleast_2d_fill  | 0.005262           |"
   ]
  },
  {
   "cell_type": "markdown",
   "metadata": {},
   "source": [
    "## Resources\n",
    "\n",
    "Complete reference material:\n",
    "\n",
    "http://docs.scipy.org/doc/numpy/reference/\n",
    "\n",
    "numpy user guide:\n",
    "\n",
    "https://docs.scipy.org/doc/numpy/user/\n",
    "\n",
    "Many recipes for different purposes:\n",
    "\n",
    "http://www.scipy.org/Cookbook\n",
    "\n",
    "Active mailing list where you can ask your questions:\n",
    "\n",
    "numpy-discussion@scipy.org\n",
    "\n",
    "Internal data-analysis mailing list\n",
    "\n",
    "data-analysis@esrf.fr"
   ]
  },
  {
   "cell_type": "markdown",
   "metadata": {},
   "source": [
    "## More exercises for the braves\n",
    "\n",
    "Thanks to Nicolas Rougier: https://github.com/rougier/numpy-100:\n",
    "\n",
    "* Create a 5x5 matrix with values 1,2,3,4 just below the diagonal\n",
    "* Create a 8x8 matrix and fill it with a checkerboard pattern\n",
    "* Normalize a 5x5 random matrix\n",
    "* Create a 5x5 matrix with row values ranging from 0 to 4\n",
    "* Consider a random 10x2 matrix representing cartesian coordinates, convert them to polar coordinates\n",
    "* Create random vector of size 10 and replace the maximum value by 0\n",
    "* Consider a random vector with shape (100,2) representing coordinates, find point by point distances\n",
    "* Generate a generic 2D Gaussian-like array\n",
    "* Subtract the mean of each row of a matrix\n",
    "* How to I sort an array by the nth column ?\n",
    "* Find the nearest value from a given value in an array"
   ]
  },
  {
   "cell_type": "code",
   "execution_count": null,
   "metadata": {
    "collapsed": true
   },
   "outputs": [],
   "source": []
  }
 ],
 "metadata": {
  "kernelspec": {
   "display_name": "Python 3",
   "language": "python",
   "name": "python3"
  },
  "language_info": {
   "codemirror_mode": {
    "name": "ipython",
    "version": 3
   },
   "file_extension": ".py",
   "mimetype": "text/x-python",
   "name": "python",
   "nbconvert_exporter": "python",
   "pygments_lexer": "ipython3",
   "version": "3.5.2"
  }
 },
 "nbformat": 4,
 "nbformat_minor": 1
}
