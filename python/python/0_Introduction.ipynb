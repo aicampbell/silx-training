{
 "cells": [
  {
   "cell_type": "markdown",
   "metadata": {},
   "source": [
    "# Introducing Jupyter Notebook\n",
    "\n",
    "Jupyter-notebook is a web interface for interactively programming in languages like JUlia, PYThon or R.\n",
    "Jupyter is a set of tools originally developed to make it easier for scientists to work with Python and data. \n",
    "It allows you to combine interactive Python exploration with prewritten programs and even text and equations for documentation.\n",
    "\n",
    "Jupyter isn’t a different programming language, it’s just a set of computer programs for working with the Python language. However, there are other ways to work with Python which will be introduced later in this course.\n",
    "\n",
    "Within the notebook, each box is called “cell” and can be used for entering Python code or writing comments.\n",
    "\n",
    "For now I will ask you to clean up the content of all cells in this document by clicking:\n",
    "\n",
    "> \n",
    "> Cell -> All Output -> Clear\n",
    "> \n",
    "\n",
    "Try typing something like `print(\"Hello World\")` into the cell. To run the code in the cell and see the output, click the Run button (play icon) on the toolbar, or type Shift-Enter:"
   ]
  },
  {
   "cell_type": "code",
   "execution_count": 10,
   "metadata": {},
   "outputs": [
    {
     "name": "stdout",
     "output_type": "stream",
     "text": [
      "Hello world\n"
     ]
    }
   ],
   "source": [
    "print(\"Hello world\")"
   ]
  },
  {
   "cell_type": "markdown",
   "metadata": {},
   "source": [
    "# Introduction to Python for data analysis\n",
    "\n",
    "## Presentation of Python\n",
    "\n",
    "- Computer language invented by Guido van Rossum in 1989\n",
    "    - Guido is slowly retiring from the management of Python\n",
    "    - Massively used at Dropbox & Google (employers of Guido)\n",
    "\n",
    "- Open source\n",
    "    - BSD-like license\n",
    "    - Means free for you\n",
    "    - Guaranteed to stay free\n",
    "\n",
    "- Portable\n",
    "    - Runs on any computer you may have access to\n",
    "\n",
    "- Easily extendable. The 'glue' language.\n",
    "    - in C, Fortran, …\n",
    "    - Once compiled, can be as fast as C\n",
    "\n",
    "## Examples of applications in Python\n",
    "\n",
    "- Scientific programs:\n",
    "    - PyMol, Sage\n",
    "\n",
    "- Web frameworks:\n",
    "    - Django, Zope, Plone, …\n",
    "\n",
    "- Scripting in large application:\n",
    "    - Blender, gimp, …\n",
    "\n",
    "- Graphical user interfaces & visualization:\n",
    "    - Bindings to gtk, Qt, Tcl/Tk, wxWidgets, …\n",
    "    - Libraries for visualization: matplotlib, VTK, bokeh, bqplot, …\n",
    "\n",
    "- Scientific libraries:\n",
    "    - Numpy, scipy, various scikit-image, -learn, -cuda …\n",
    "    - Pandas, numba, numexpr, …\n",
    "\n",
    "- More locally developed programs anl libraries (ESRF driven):\n",
    "    - PyMca, PyHST, PyFAI, FabIO, silx, bliss …\n",
    "\n",
    "## Why Python for data-analysis ?\n",
    "\n",
    "- Python can be learned in a couple of days\n",
    "- Ideal for prototyping\n",
    "- Free alternative to Matlab\n",
    "- It runs everywhere\n",
    "- Batteries are included\n",
    "- Excellent community support & local experise\n",
    "- Can be extended into larger projects\n",
    "- Interfaces to low-level languages (for performances)\n",
    "\n",
    "![batteries are included](img/batteries_included.png \"Batteries included\")\n",
    "\n",
    "\n",
    "##  Play with the notebook as a simple calculator \n",
    "\n",
    "- What is the result of 4+7/2?\n",
    "- What Python version is used? Where is the Python interpreter on located on the machine?\n"
   ]
  },
  {
   "cell_type": "code",
   "execution_count": 2,
   "metadata": {},
   "outputs": [
    {
     "data": {
      "text/plain": [
       "7.5"
      ]
     },
     "execution_count": 2,
     "metadata": {},
     "output_type": "execute_result"
    }
   ],
   "source": [
    "4+7/2"
   ]
  },
  {
   "cell_type": "code",
   "execution_count": 3,
   "metadata": {},
   "outputs": [
    {
     "data": {
      "text/plain": [
       "7"
      ]
     },
     "execution_count": 3,
     "metadata": {},
     "output_type": "execute_result"
    }
   ],
   "source": [
    "#Nota: \n",
    "# - the integer division is obtained from: //\n",
    "# - The division has priority over addition\n",
    "4+7//2"
   ]
  },
  {
   "cell_type": "code",
   "execution_count": 4,
   "metadata": {},
   "outputs": [
    {
     "name": "stdout",
     "output_type": "stream",
     "text": [
      "3.5.3 (default, Jan 19 2017, 14:11:04) \n",
      "[GCC 6.3.0 20170118]\n"
     ]
    }
   ],
   "source": [
    "import sys\n",
    "print(sys.version)"
   ]
  },
  {
   "cell_type": "code",
   "execution_count": 5,
   "metadata": {},
   "outputs": [
    {
     "name": "stdout",
     "output_type": "stream",
     "text": [
      "/mntdirect/_scisoft/users/jupyter/jupy35/bin/python3.5\n"
     ]
    }
   ],
   "source": [
    "print(sys.executable)"
   ]
  },
  {
   "cell_type": "code",
   "execution_count": 6,
   "metadata": {},
   "outputs": [
    {
     "name": "stdout",
     "output_type": "stream",
     "text": [
      "The sum of ∑_i∈N i*i = 164\n"
     ]
    }
   ],
   "source": [
    "#Calculator example\n",
    "N = [1, 3, 4, 5, 7, 8]\n",
    "print('The sum of ∑_i∈N i*i =', sum( i**2 for i in N ) )"
   ]
  },
  {
   "cell_type": "markdown",
   "metadata": {},
   "source": [
    "## Getting help !\n",
    "\n",
    "Python has extensive **help** built in. You can execute `help()` for an overview or `help(x)` for any library, object or type x to get more information. For example: help()"
   ]
  },
  {
   "cell_type": "code",
   "execution_count": 5,
   "metadata": {},
   "outputs": [
    {
     "name": "stdout",
     "output_type": "stream",
     "text": [
      "\n",
      "Welcome to Python 3.5's help utility!\n",
      "\n",
      "If this is your first time using Python, you should definitely check out\n",
      "the tutorial on the Internet at http://docs.python.org/3.5/tutorial/.\n",
      "\n",
      "Enter the name of any module, keyword, or topic to get help on writing\n",
      "Python programs and using Python modules.  To quit this help utility and\n",
      "return to the interpreter, just type \"quit\".\n",
      "\n",
      "To get a list of available modules, keywords, symbols, or topics, type\n",
      "\"modules\", \"keywords\", \"symbols\", or \"topics\".  Each module also comes\n",
      "with a one-line summary of what it does; to list the modules whose name\n",
      "or summary contain a given string such as \"spam\", type \"modules spam\".\n",
      "\n",
      "help> keywords\n",
      "\n",
      "Here is a list of the Python keywords.  Enter any keyword to get more help.\n",
      "\n",
      "False               def                 if                  raise\n",
      "None                del                 import              return\n",
      "True                elif                in                  try\n",
      "and                 else                is                  while\n",
      "as                  except              lambda              with\n",
      "assert              finally             nonlocal            yield\n",
      "break               for                 not                 \n",
      "class               from                or                  \n",
      "continue            global              pass                \n",
      "\n",
      "\n",
      "You are now leaving help and returning to the Python interpreter.\n",
      "If you want to ask for help on a particular object directly from the\n",
      "interpreter, you can type \"help(object)\".  Executing \"help('string')\"\n",
      "has the same effect as typing a particular string at the help> prompt.\n"
     ]
    }
   ],
   "source": [
    "help()"
   ]
  },
  {
   "cell_type": "markdown",
   "metadata": {},
   "source": [
    " ## Variables & Values\n",
    "    \n",
    "A `name` that is used to denote something or a `value` is called a **variable**. In python, variables can be declared and values can be assigned to it as follows, using the **=** sign."
   ]
  },
  {
   "cell_type": "code",
   "execution_count": 6,
   "metadata": {},
   "outputs": [
    {
     "name": "stdout",
     "output_type": "stream",
     "text": [
      "7 Hey\n"
     ]
    }
   ],
   "source": [
    "x = 2          # anything after a '#' is a comment\n",
    "y = 5\n",
    "xy = 'Hey'\n",
    "print(x+y, xy) # not really necessary as the last value in a bit of code is displayed by default"
   ]
  },
  {
   "cell_type": "markdown",
   "metadata": {},
   "source": [
    " Multiple variables can be assigned with the same value:"
   ]
  },
  {
   "cell_type": "code",
   "execution_count": 8,
   "metadata": {},
   "outputs": [
    {
     "name": "stdout",
     "output_type": "stream",
     "text": [
      "1 + 1 = 2\n"
     ]
    }
   ],
   "source": [
    "x = y = 1\n",
    "print(x, \"+\", y, \"=\", x+y )"
   ]
  },
  {
   "cell_type": "code",
   "execution_count": null,
   "metadata": {},
   "outputs": [],
   "source": []
  }
 ],
 "metadata": {
  "kernelspec": {
   "display_name": "Python 3",
   "language": "python",
   "name": "python3"
  },
  "language_info": {
   "codemirror_mode": {
    "name": "ipython",
    "version": 3
   },
   "file_extension": ".py",
   "mimetype": "text/x-python",
   "name": "python",
   "nbconvert_exporter": "python",
   "pygments_lexer": "ipython3",
   "version": "3.5.3"
  }
 },
 "nbformat": 4,
 "nbformat_minor": 2
}
