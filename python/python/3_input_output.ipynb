{
 "cells": [
  {
   "cell_type": "markdown",
   "metadata": {
    "slideshow": {
     "slide_type": "slide"
    }
   },
   "source": [
    "# Input and Output"
   ]
  },
  {
   "cell_type": "markdown",
   "metadata": {
    "slideshow": {
     "slide_type": "fragment"
    }
   },
   "source": [
    "## Opening files\n",
    "\n",
    "How to open a file ?\n",
    "\n",
    "`f = open(filename, mode='r')`\n",
    "\n",
    "modes can be:\n",
    "* `r` for read-only mode\n",
    "* `w` for write mode\n",
    "* `a` for append mode\n",
    "* `+` for read+write mode\n",
    "* `b` for binary mode (disable encoding handling)\n",
    "\n",
    "\n",
    "Common methods for all file objects:\n",
    "* `f.close()` → close the file\n",
    "* `seek(pos)` → Moves to a given position in the file"
   ]
  },
  {
   "cell_type": "markdown",
   "metadata": {
    "slideshow": {
     "slide_type": "subslide"
    }
   },
   "source": [
    "## Writing into a file\n",
    "\n",
    "- `file.write(str)` → write a string to the file\n",
    "- `file.writelines([list of strings])` → write multiple lines\n",
    "- `file.flush()` → write (actually) the data to the disk\n"
   ]
  },
  {
   "cell_type": "code",
   "execution_count": 1,
   "metadata": {
    "slideshow": {
     "slide_type": "fragment"
    }
   },
   "outputs": [],
   "source": [
    "import time\n",
    "fn1 = \"example_io1\"\n",
    "\n",
    "f = open(fn1, \"w\")\n",
    "f.write(\"It is now: \" + time.ctime())\n",
    "f.flush() #Optional\n",
    "f.close() # Mandatory"
   ]
  },
  {
   "cell_type": "markdown",
   "metadata": {
    "slideshow": {
     "slide_type": "subslide"
    }
   },
   "source": [
    "## Reading from a file\n",
    "\n",
    "\n",
    "- `file.read(size)` → read size bytes or the whole file in a string\n",
    "- `file.readlines()` → read the whole file in a list of lines\n",
    "- `file.readline()` → read the next line\n"
   ]
  },
  {
   "cell_type": "code",
   "execution_count": 2,
   "metadata": {
    "slideshow": {
     "slide_type": "fragment"
    }
   },
   "outputs": [
    {
     "name": "stdout",
     "output_type": "stream",
     "text": [
      "Fri Sep 21 10:53:57 2018\n",
      "It is now: Fri Sep 21 10:53:57 2018\n"
     ]
    }
   ],
   "source": [
    "print(time.ctime())\n",
    "print(open(fn1).read())"
   ]
  },
  {
   "cell_type": "markdown",
   "metadata": {
    "slideshow": {
     "slide_type": "-"
    }
   },
   "source": [
    "**Nota:** In the former cell, the file may not be closed immediately as the garbage collection can be delayed. As the number of opened files is limited at ~1000 per process, it is always better to explicitely close files. This is best achieved using a `context manager`."
   ]
  },
  {
   "cell_type": "markdown",
   "metadata": {
    "slideshow": {
     "slide_type": "subslide"
    }
   },
   "source": [
    "### Context manager\n",
    "\n",
    "Context managers allow you to allocate and release resources precisely when you want to. The most widely used example of context managers is the with statement. Suppose you have two related operations which you’d like to execute as a pair, with a block of code in between. Context managers allow you to do specifically that. For example:"
   ]
  },
  {
   "cell_type": "code",
   "execution_count": 3,
   "metadata": {
    "slideshow": {
     "slide_type": "-"
    }
   },
   "outputs": [],
   "source": [
    "with open('some_file', 'w') as opened_file:\n",
    "    opened_file.write('Hi there!')"
   ]
  },
  {
   "cell_type": "markdown",
   "metadata": {
    "slideshow": {
     "slide_type": "fragment"
    }
   },
   "source": [
    "The above code opens the file, writes some data to it and then closes it. If an error occurs while writing the data to the file, it tries to close it. The above code is equivalent to:"
   ]
  },
  {
   "cell_type": "code",
   "execution_count": 4,
   "metadata": {
    "slideshow": {
     "slide_type": "-"
    }
   },
   "outputs": [],
   "source": [
    "file = open('some_file', 'w')\n",
    "try:\n",
    "    file.write('Hi there!')\n",
    "finally:\n",
    "    file.close()"
   ]
  },
  {
   "cell_type": "markdown",
   "metadata": {
    "slideshow": {
     "slide_type": "-"
    }
   },
   "source": [
    "While comparing it to the first example we can see that a lot of boilerplate code is eliminated just by using with. The main advantage of using a with statement is that it makes sure our file is closed without paying attention to how the nested block exits.\n",
    "\n",
    "A common use case of context managers is locking and unlocking resources and closing opened files."
   ]
  },
  {
   "cell_type": "markdown",
   "metadata": {
    "slideshow": {
     "slide_type": "subslide"
    }
   },
   "source": [
    "## File as iterator\n",
    "\n",
    "Files can behave as iterators over readlines"
   ]
  },
  {
   "cell_type": "code",
   "execution_count": 5,
   "metadata": {
    "slideshow": {
     "slide_type": "-"
    }
   },
   "outputs": [
    {
     "name": "stdout",
     "output_type": "stream",
     "text": [
      "It is now: Fri Sep 21 10:53:57 2018\n"
     ]
    }
   ],
   "source": [
    "for line in open(fn1):\n",
    "    print(line)"
   ]
  },
  {
   "cell_type": "markdown",
   "metadata": {
    "slideshow": {
     "slide_type": "fragment"
    }
   },
   "source": [
    "will display:\n",
    "```\n",
    "    first line\n",
    "    second line\n",
    "    ...\n",
    "```\n",
    "* Very concise typing\n",
    "* Efficient reading\n",
    "* Limited memory footprint\n",
    "* File is not fully loaded in memory: only one line at a time\n",
    "\n"
   ]
  },
  {
   "cell_type": "markdown",
   "metadata": {
    "slideshow": {
     "slide_type": "slide"
    }
   },
   "source": [
    "## Interaction with the console\n",
    "\n",
    "- Output to the console:\n",
    "    - `print(str)` used to be a statement (now function behaviour is enforced)\n",
    "    - `sys.stdout` is a file opend in write mode:\n",
    "    - `sys.stdout.write(str+os.linesep)` is equivalent to `print(str)`\n",
    "\n",
    "- Input from the console:\n",
    "    - `input()` reads the standard input and returns a string (`raw_input` in python2)\n",
    "    - `sys.stdin` is a file open in read mode:\n",
    "\n",
    "- Stdin, stdout and stderr are just opened files …"
   ]
  },
  {
   "cell_type": "code",
   "execution_count": 6,
   "metadata": {},
   "outputs": [
    {
     "name": "stdout",
     "output_type": "stream",
     "text": [
      "<ipykernel.iostream.OutStream object at 0x7f225cbb1b70>\n",
      "<_io.TextIOWrapper name='<stdin>' mode='r' encoding='UTF-8'>\n"
     ]
    }
   ],
   "source": [
    "import sys\n",
    "print(sys.stdout)\n",
    "print(sys.stdin)"
   ]
  },
  {
   "cell_type": "markdown",
   "metadata": {
    "slideshow": {
     "slide_type": "slide"
    }
   },
   "source": [
    "## Exercise\n",
    "\n",
    "\n",
    "Create a function asking for the name and the age of the user and then display it\n",
    "\n",
    "```\n",
    ">>> What is your name ?\n",
    "polo\n",
    ">>> How old are you ? \n",
    "22\n",
    ">>> Your name is polo and you are 22 years old\n",
    "```"
   ]
  },
  {
   "cell_type": "markdown",
   "metadata": {
    "slideshow": {
     "slide_type": "subslide"
    }
   },
   "source": [
    "### Solution\n"
   ]
  },
  {
   "cell_type": "code",
   "execution_count": 7,
   "metadata": {
    "slideshow": {
     "slide_type": "-"
    }
   },
   "outputs": [
    {
     "name": "stdout",
     "output_type": "stream",
     "text": [
      "What is your name ?\n",
      "Guido\n",
      "How old are you ? \n",
      "62\n",
      "Your name is Guido and you are 62 years old\n"
     ]
    }
   ],
   "source": [
    "def questioner():\n",
    "    print(\"What is your name ?\")\n",
    "    name = input()\n",
    "    print(\"How old are you ? \")\n",
    "    age = input()\n",
    "    print(\"Your name is %s and you are %s years old\" % (name, age))\n",
    "\n",
    "questioner()"
   ]
  },
  {
   "cell_type": "markdown",
   "metadata": {
    "slideshow": {
     "slide_type": "slide"
    }
   },
   "source": [
    "## Exercise\n",
    "\n",
    "write into a file:\n",
    "\n",
    "    - your name\n",
    "    - the current date\n",
    "\n",
    "Then read back this file and parse it to retrieve the month of the date.\n",
    "Use only the functions given by the file object (the one returned by open(...))"
   ]
  },
  {
   "cell_type": "markdown",
   "metadata": {
    "slideshow": {
     "slide_type": "subslide"
    }
   },
   "source": [
    "### Solution - writing"
   ]
  },
  {
   "cell_type": "code",
   "execution_count": 8,
   "metadata": {
    "slideshow": {
     "slide_type": "-"
    }
   },
   "outputs": [],
   "source": [
    "import time\n",
    "with open('myoutputfile', mode='w') as opened_file:\n",
    "    opened_file.write('Jerome\\n')\n",
    "    opened_file.write(time.ctime())"
   ]
  },
  {
   "cell_type": "markdown",
   "metadata": {
    "slideshow": {
     "slide_type": "subslide"
    }
   },
   "source": [
    "### Solution - reading"
   ]
  },
  {
   "cell_type": "code",
   "execution_count": 9,
   "metadata": {
    "slideshow": {
     "slide_type": "-"
    }
   },
   "outputs": [
    {
     "name": "stdout",
     "output_type": "stream",
     "text": [
      "month is Sep\n"
     ]
    }
   ],
   "source": [
    "# reading\n",
    "with open('myoutputfile', mode='r') as f:\n",
    "    # read the first line with the name\n",
    "    firstline = f.readline()\n",
    "    # read the second line with the date\n",
    "    secondline = f.readline()\n",
    "    month = secondline.split()[1]\n",
    "print(\"month is %s\"%month)\n"
   ]
  },
  {
   "cell_type": "markdown",
   "metadata": {
    "slideshow": {
     "slide_type": "slide"
    }
   },
   "source": [
    "## Exercise\n",
    "\n",
    "Read an ascii spreadsheet written by FIT2D:\n",
    "\n",
    "- The first non commented line looks like:\n",
    "    - 512 512 Start pixel = ( 1 1 )\n",
    "    - Then 512 values per line, 512 lines\n",
    "- Read the file as a list of lists\n",
    "- Example file in : data/example.spr\n",
    "\n",
    "\n",
    "![FIT2D image saved in ASCII](img/fit2d_ascii_file.png \"FIT2D image saved in ASCII\")\n"
   ]
  },
  {
   "cell_type": "markdown",
   "metadata": {
    "slideshow": {
     "slide_type": "subslide"
    }
   },
   "source": [
    "### Solution"
   ]
  },
  {
   "cell_type": "code",
   "execution_count": 10,
   "metadata": {
    "slideshow": {
     "slide_type": "-"
    }
   },
   "outputs": [
    {
     "name": "stdout",
     "output_type": "stream",
     "text": [
      "Dimensions of the size are (512, 512)\n"
     ]
    }
   ],
   "source": [
    "def readspr(filepath):\n",
    "    \"Read a FIT2D ascii spread file\"\n",
    "    result = []\n",
    "    xsize = 0\n",
    "    ysize = 0\n",
    "    with open(filepath, 'r') as opened_file:\n",
    "        for idx, line in enumerate(opened_file):\n",
    "            strippedline = line.strip()\n",
    "            # if this is a commented line\n",
    "            if strippedline.startswith('#'):\n",
    "                continue\n",
    "            words = strippedline.split()\n",
    "            if(len(words) == 8) and (words[2:6] == [\"Start\", \"pixel\", \"=\", \"(\"]):\n",
    "                xsize = int(words[0])\n",
    "                ysize = int(words[1])\n",
    "                print(\"Dimensions of the size are (%s, %s)\" %(xsize, ysize))\n",
    "                break\n",
    "        if xsize and ysize:\n",
    "            for line in opened_file:\n",
    "                words = line.split()\n",
    "                if len(words) != xsize:\n",
    "                    print(\"Error !!! Expected entries are %s, got %s\"%(xsize, len(words)))\n",
    "                    return None\n",
    "                else:\n",
    "                    result.append([float(i) for i in words])               \n",
    "    return result\n",
    "\n",
    "data = readspr(\"data/example.spr\")"
   ]
  },
  {
   "cell_type": "code",
   "execution_count": 11,
   "metadata": {
    "slideshow": {
     "slide_type": "subslide"
    }
   },
   "outputs": [
    {
     "data": {
      "text/plain": [
       "<matplotlib.image.AxesImage at 0x7f22592a39e8>"
      ]
     },
     "execution_count": 11,
     "metadata": {},
     "output_type": "execute_result"
    },
    {
     "data": {
      "image/png": "[encoded data removed]",
      "text/plain": [
       "<Figure size 432x288 with 1 Axes>"
      ]
     },
     "metadata": {},
     "output_type": "display_data"
    }
   ],
   "source": [
    "#Display the image\n",
    "%matplotlib inline\n",
    "from matplotlib.pyplot import subplots\n",
    "\n",
    "fig, ax = subplots()\n",
    "ax.imshow(data)"
   ]
  }
 ],
 "metadata": {
  "celltoolbar": "Slideshow",
  "kernelspec": {
   "display_name": "Python 3",
   "language": "python",
   "name": "python3"
  },
  "language_info": {
   "codemirror_mode": {
    "name": "ipython",
    "version": 3
   },
   "file_extension": ".py",
   "mimetype": "text/x-python",
   "name": "python",
   "nbconvert_exporter": "python",
   "pygments_lexer": "ipython3",
   "version": "3.5.3"
  }
 },
 "nbformat": 4,
 "nbformat_minor": 2
}
