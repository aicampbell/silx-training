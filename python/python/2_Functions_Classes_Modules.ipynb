{
 "cells": [
  {
   "cell_type": "markdown",
   "metadata": {},
   "source": [
    "# How to create a function?\n",
    "\n",
    "Definition in the source code\n",
    "\n",
    "use the `def` statement to define a new function and place the content of the function in an indented block."
   ]
  },
  {
   "cell_type": "code",
   "execution_count": 1,
   "metadata": {},
   "outputs": [],
   "source": [
    "def myadd(myparam1, myparam2):\n",
    "    print('my first parameter is %s' % myparam1)\n",
    "    print('my second parameter is %s' % myparam2)\n",
    "    return myparam1 + myparam2"
   ]
  },
  {
   "cell_type": "code",
   "execution_count": 2,
   "metadata": {},
   "outputs": [
    {
     "name": "stdout",
     "output_type": "stream",
     "text": [
      "my first parameter is 12\n",
      "my second parameter is 6\n"
     ]
    },
    {
     "data": {
      "text/plain": [
       "18"
      ]
     },
     "execution_count": 2,
     "metadata": {},
     "output_type": "execute_result"
    }
   ],
   "source": [
    "#Call of a function\n",
    "myadd(myparam1=12, myparam2=6)"
   ]
  },
  {
   "cell_type": "markdown",
   "metadata": {},
   "source": [
    "# Documentation of the function\n",
    "\n",
    "One should use a **doc-string**, i.e. a string defining what the function does as first statement of the function:"
   ]
  },
  {
   "cell_type": "code",
   "execution_count": 3,
   "metadata": {},
   "outputs": [
    {
     "name": "stdout",
     "output_type": "stream",
     "text": [
      "Help on function myadd in module __main__:\n",
      "\n",
      "myadd(myparam1, myparam2)\n",
      "    return the addition of the two input parameters\n",
      "\n"
     ]
    }
   ],
   "source": [
    "def myadd(myparam1, myparam2):\n",
    "    \"return the addition of the two input parameters\"\n",
    "    print('my first parameter is %s' % myparam1)\n",
    "    print('my second parameter is %s' % myparam2)\n",
    "    return myparam1 + myparam2\n",
    "\n",
    "help(myadd)\n"
   ]
  },
  {
   "cell_type": "markdown",
   "metadata": {},
   "source": [
    "# Hands on:\n",
    "\n",
    "Write a function solving the quadratic equation. This function will take a, b and c in input and return the list of solutions (in **R**) for:\n",
    "$$\n",
    "{a.x^2}+b.x+c=0\n",
    "$$\n",
    "Reminder:\n",
    "$$\n",
    "    {\\Delta}={b^2}-4*{ac}\n",
    "$$\n",
    "if ${\\Delta}>0$ then the equation has two solutions\n",
    "$$\n",
    "        \\frac{-b - {\\sqrt{\\Delta}}}{2a} \n",
    "$$\n",
    "and\n",
    "$$\n",
    "        \\frac{-b + {\\sqrt{\\Delta}}}{2a}\n",
    "$$\n",
    "if ${\\Delta}=0$ the the equation has one solution\n",
    "$$        \n",
    "         \\frac{-b}{2a}\n",
    "$$\n",
    "if ${\\Delta}<0$ then there is no (real) solution\n",
    "\n",
    "**Nota: **\n",
    "square root of x can be obtained by x**(0.5)\n"
   ]
  },
  {
   "cell_type": "code",
   "execution_count": 4,
   "metadata": {},
   "outputs": [],
   "source": [
    "def sqrt(x):\n",
    "    return x**(0.5)"
   ]
  },
  {
   "cell_type": "code",
   "execution_count": 5,
   "metadata": {},
   "outputs": [
    {
     "name": "stdout",
     "output_type": "stream",
     "text": [
      "Solution :\n",
      "def sqrt(x):\n",
      "    return x**(0.5)\n",
      "\n",
      "def polynom(a, b, c):\n",
      "    delta = b*b - 4.0*a*c\n",
      "    solutions = []\n",
      "    if delta > 0 :\n",
      "        solutions.append((-b - sqrt(delta)) / (2.0*a))\n",
      "        solutions.append((-b + sqrt(delta)) / (2.0*a))\n",
      "    elif delta == 0 :\n",
      "        solutions.append(-b / (2.0 * a))\n",
      "    return solutions\n"
     ]
    }
   ],
   "source": [
    "import base64\n",
    "cod = b'ZGVmIHNxcnQoeCk6CiAgICByZXR1cm4geCoqKDAuNSkKCmRlZiBwb2x5bm9tKGEsIGIsIGMpOgogICAgZGVsdGEgPSBiKmIgLSA0LjAqYSpjCiAgICBzb2x1dGlvbnMgPSBbXQogICAgaWYgZGVsdGEgPiAwIDoKICAgICAgICBzb2x1dGlvbnMuYXBwZW5kKCgtYiAtIHNxcnQoZGVsdGEpKSAvICgyLjAqYSkpCiAgICAgICAgc29sdXRpb25zLmFwcGVuZCgoLWIgKyBzcXJ0KGRlbHRhKSkgLyAoMi4wKmEpKQogICAgZWxpZiBkZWx0YSA9PSAwIDoKICAgICAgICBzb2x1dGlvbnMuYXBwZW5kKC1iIC8gKDIuMCAqIGEpKQogICAgcmV0dXJuIHNvbHV0aW9ucw=='\n",
    "solution = base64.b64decode(cod).decode()\n",
    "print(\"Solution :\\n%s\"%(solution))\n",
    "sol = exec(solution)"
   ]
  },
  {
   "cell_type": "code",
   "execution_count": 6,
   "metadata": {},
   "outputs": [
    {
     "data": {
      "text/plain": [
       "[-4.7912878474779195, -0.20871215252208009]"
      ]
     },
     "execution_count": 6,
     "metadata": {},
     "output_type": "execute_result"
    }
   ],
   "source": [
    "#example of usage:\n",
    "polynom(1,5,1)"
   ]
  },
  {
   "cell_type": "markdown",
   "metadata": {},
   "source": [
    "## Function parameters:\n",
    "\n",
    "* Default values for a parameter can be given after an `=` sign\n",
    "* All parameters can be seen as a list using the `*args` notation where args contains all arguments\n",
    "* All parameters can be seen as a dictionnary using the `**kwargs` notation\n"
   ]
  },
  {
   "cell_type": "code",
   "execution_count": 7,
   "metadata": {},
   "outputs": [
    {
     "name": "stdout",
     "output_type": "stream",
     "text": [
      "my parameter is 5\n",
      "my parameter is toto\n",
      "my parameter is titi\n"
     ]
    }
   ],
   "source": [
    "def myfunction(myparam=5):\n",
    "    print('my parameter is %s' % myparam)\n",
    "\n",
    "\n",
    "myfunction()\n",
    "myfunction(\"toto\")\n",
    "myfunction(myparam=\"titi\")"
   ]
  },
  {
   "cell_type": "code",
   "execution_count": 8,
   "metadata": {},
   "outputs": [
    {
     "name": "stdout",
     "output_type": "stream",
     "text": [
      "I got those arguments in a list:\n",
      "()\n",
      "I got those arguments in a list:\n",
      "(5,)\n",
      "I got those arguments in a list:\n",
      "('Turlu', 'tutu', 'chapeau', 'pointu')\n"
     ]
    }
   ],
   "source": [
    "  def anyarg_function1(*unamedargs):\n",
    "        print(\"I got those arguments in a list:\")\n",
    "        print(unamedargs)\n",
    "\n",
    "anyarg_function1()\n",
    "anyarg_function1(5)\n",
    "anyarg_function1(\"Turlu\", \"tutu\", \"chapeau\", \"pointu\")"
   ]
  },
  {
   "cell_type": "code",
   "execution_count": 9,
   "metadata": {},
   "outputs": [
    {
     "name": "stdout",
     "output_type": "stream",
     "text": [
      "I got those arguments in a dict:\n",
      "{}\n",
      "I got those arguments in a dict:\n",
      "{'arg1': 5}\n"
     ]
    }
   ],
   "source": [
    "  def anyarg_function2(**kwargs):\n",
    "        print(\"I got those arguments in a dict:\")\n",
    "        print(kwargs)\n",
    "\n",
    "anyarg_function2()\n",
    "anyarg_function2(arg1=5)"
   ]
  },
  {
   "cell_type": "code",
   "execution_count": 10,
   "metadata": {},
   "outputs": [
    {
     "name": "stdout",
     "output_type": "stream",
     "text": [
      "r param = Turlu\n",
      "n param = tutu\n",
      "got 2 unnamed argument \n",
      "- chapeau\n",
      "- pointu\n",
      "got 2 named argument \n",
      "- name = souris , value = formage \n",
      "- name = chat , value = souris \n"
     ]
    }
   ],
   "source": [
    "def anyarg_function3(r, n=12, *arglist, **argdict):\n",
    "    print('r param = %s' % r)\n",
    "    print('n param = %s' % n)\n",
    "    if len(arglist) > 0:\n",
    "        print('got %s unnamed argument ' %len(arglist))\n",
    "        for arg in arglist:\n",
    "            print('- %s' % arg)\n",
    "    if len(argdict) > 0:\n",
    "        print('got %s named argument ' % len(argdict))\n",
    "        for key in argdict:\n",
    "            print('- name = %s , value = %s ' % (key, argdict[key]))\n",
    "\n",
    "anyarg_function3(\"Turlu\", \"tutu\", \"chapeau\", \"pointu\", souris=\"formage\", chat=\"souris\")"
   ]
  },
  {
   "cell_type": "markdown",
   "metadata": {},
   "source": [
    "## Warning about default mutable objects:\n",
    "\n",
    "Never use mutable objects as default parameter, or you will experience trouble !!!\n",
    "\n",
    "If the parameter is a mutable, its default value should generally be None (immutable) and initialize an empty container.\n",
    "\n",
    "Example:\n"
   ]
  },
  {
   "cell_type": "code",
   "execution_count": 11,
   "metadata": {},
   "outputs": [
    {
     "name": "stdout",
     "output_type": "stream",
     "text": [
      "[1]\n",
      "[1, 1]\n",
      "[1, 1, 1]\n",
      "[1, 1, 1, 1]\n"
     ]
    }
   ],
   "source": [
    "def bad_append(any_list=[]):\n",
    "    \"\"\"Append 1 to provided list and return it.\n",
    "    If no list is given as parameter, use empty list.\"\"\"\n",
    "    any_list.append(1)\n",
    "    return any_list\n",
    "\n",
    "print(bad_append())\n",
    "print(bad_append())\n",
    "print(bad_append())\n",
    "print(bad_append())"
   ]
  },
  {
   "cell_type": "code",
   "execution_count": 12,
   "metadata": {},
   "outputs": [
    {
     "name": "stdout",
     "output_type": "stream",
     "text": [
      "[1]\n",
      "[1]\n",
      "[1]\n",
      "[1]\n"
     ]
    }
   ],
   "source": [
    "def good_append(any_list=None):\n",
    "    if any_list is None:\n",
    "         any_list = []\n",
    "    any_list.append(1)\n",
    "    return any_list\n",
    "\n",
    "print(good_append())\n",
    "print(good_append())\n",
    "print(good_append())\n",
    "print(good_append())\n"
   ]
  },
  {
   "cell_type": "markdown",
   "metadata": {},
   "source": [
    "# Lambda function\n",
    "\n",
    "One can define **anonymous** function, sometimes called lambda function in functional programing languages.\n",
    "\n",
    "\n",
    "**Nota:** We don't expect you to use lambda, but this is just to explain why you can get an error when trying to use a variable called `lambda`, as it is a reserved keyword."
   ]
  },
  {
   "cell_type": "code",
   "execution_count": 13,
   "metadata": {},
   "outputs": [
    {
     "data": {
      "text/plain": [
       "25"
      ]
     },
     "execution_count": 13,
     "metadata": {},
     "output_type": "execute_result"
    }
   ],
   "source": [
    "pow2=lambda x: x*x\n",
    "\n",
    "pow2(5)"
   ]
  },
  {
   "cell_type": "code",
   "execution_count": 14,
   "metadata": {},
   "outputs": [
    {
     "ename": "SyntaxError",
     "evalue": "invalid syntax (<ipython-input-14-efff544b3e0b>, line 1)",
     "output_type": "error",
     "traceback": [
      "\u001b[0;36m  File \u001b[0;32m\"<ipython-input-14-efff544b3e0b>\"\u001b[0;36m, line \u001b[0;32m1\u001b[0m\n\u001b[0;31m    lambda = 1.3e-10\u001b[0m\n\u001b[0m           ^\u001b[0m\n\u001b[0;31mSyntaxError\u001b[0m\u001b[0;31m:\u001b[0m invalid syntax\n"
     ]
    }
   ],
   "source": [
    "lambda = 1.3e-10"
   ]
  },
  {
   "cell_type": "markdown",
   "metadata": {},
   "source": [
    "# Classes\n",
    "\n",
    "Classes are used for Object Oriented Programming, they are **out of the scope of this training**.\n",
    "\n",
    "## Definition\n",
    "They are defined by the `class` keyword to define the block corresponding to the class definition.\n",
    "The parameter `self` passed as first argument of any method is used to retrive the instance of the class.\n",
    "The constructor method is called `__init__`, there is usually no destructor as objects are *gargage collected* in Python\n",
    "\n",
    "Here is just a simple example:"
   ]
  },
  {
   "cell_type": "code",
   "execution_count": 15,
   "metadata": {},
   "outputs": [],
   "source": [
    "class MyClass(object):\n",
    "    \"Simple class inheriting from object\"\n",
    "    def __init__(self, param):\n",
    "        \"Constructor method\"\n",
    "        object.__init__(self)\n",
    "        self.param = param\n",
    "\n",
    "    def mymethod(self):\n",
    "        print('value of my param is: %s'% self.param)"
   ]
  },
  {
   "cell_type": "markdown",
   "metadata": {},
   "source": [
    "## Instanciation\n",
    "\n",
    "Instanciation is the creation of an object of a given class.\n",
    "\n"
   ]
  },
  {
   "cell_type": "code",
   "execution_count": 16,
   "metadata": {},
   "outputs": [
    {
     "name": "stdout",
     "output_type": "stream",
     "text": [
      "value of my param is: 2\n"
     ]
    }
   ],
   "source": [
    "# creation of a new class instance\n",
    "c = MyClass(2)\n",
    "\n",
    "# access to a class method\n",
    "c.mymethod()"
   ]
  },
  {
   "cell_type": "code",
   "execution_count": 17,
   "metadata": {},
   "outputs": [
    {
     "data": {
      "text/plain": [
       "2"
      ]
     },
     "execution_count": 17,
     "metadata": {},
     "output_type": "execute_result"
    }
   ],
   "source": [
    "# access to a class attribute\n",
    "c.param"
   ]
  },
  {
   "cell_type": "code",
   "execution_count": 18,
   "metadata": {},
   "outputs": [
    {
     "data": {
      "text/plain": [
       "True"
      ]
     },
     "execution_count": 18,
     "metadata": {},
     "output_type": "execute_result"
    }
   ],
   "source": [
    "# check the class of an object\n",
    "isinstance(c, MyClass) "
   ]
  },
  {
   "cell_type": "markdown",
   "metadata": {},
   "source": [
    "# Modules\n",
    "\n",
    "A module is a library with all your useful functions and classes definitions stored in file to use them from different places. \n",
    "The easiest is to concatenate all your definitions into a text file with the `.py` extension.\n",
    "\n",
    "A good practice is to start each new python file with the following line to specify the file encoding :\n",
    "`# coding: utf-8`\n",
    "\n",
    "To make this file executable on Unix one needs to:\n",
    "* Specify the name of the interpretor on  first line of the file like `#!/usr/bin/env python3`\n",
    "* Make the script executable using `chmod +x filename`\n",
    "* Define a **main** section with `if __name__ == \"__main__\":`\n",
    "\n",
    "## Example of a module:\n",
    "![Example of module](img/mymodule.png \"Example of python module\")\n",
    "\n",
    "## How to use the module:\n",
    "\n",
    "There is many ways to import modules / from module:\n"
   ]
  },
  {
   "cell_type": "code",
   "execution_count": 19,
   "metadata": {},
   "outputs": [
    {
     "data": {
      "text/plain": [
       "25"
      ]
     },
     "execution_count": 19,
     "metadata": {},
     "output_type": "execute_result"
    }
   ],
   "source": [
    "import mymodule\n",
    "mymodule.pow2(5)"
   ]
  },
  {
   "cell_type": "code",
   "execution_count": 20,
   "metadata": {},
   "outputs": [
    {
     "data": {
      "text/plain": [
       "36"
      ]
     },
     "execution_count": 20,
     "metadata": {},
     "output_type": "execute_result"
    }
   ],
   "source": [
    "import mymodule as mm\n",
    "mm.pow2(6)"
   ]
  },
  {
   "cell_type": "code",
   "execution_count": 21,
   "metadata": {},
   "outputs": [
    {
     "data": {
      "text/plain": [
       "49"
      ]
     },
     "execution_count": 21,
     "metadata": {},
     "output_type": "execute_result"
    }
   ],
   "source": [
    "from mymodule import pow2\n",
    "pow2(7)"
   ]
  },
  {
   "cell_type": "code",
   "execution_count": 22,
   "metadata": {},
   "outputs": [
    {
     "data": {
      "text/plain": [
       "['Pierre Knobel',\n",
       " 'Jerome Kieffer',\n",
       " 'Henri Payno',\n",
       " 'Armando Sole',\n",
       " 'Valentin Valls',\n",
       " 'Thomas Vincent']"
      ]
     },
     "execution_count": 22,
     "metadata": {},
     "output_type": "execute_result"
    }
   ],
   "source": [
    "#You can also access to the attributes of the module:\n",
    "mymodule.__authors__"
   ]
  },
  {
   "cell_type": "code",
   "execution_count": 23,
   "metadata": {},
   "outputs": [
    {
     "name": "stdout",
     "output_type": "stream",
     "text": [
      "Help on module mymodule:\n",
      "\n",
      "NAME\n",
      "    mymodule - This is a simple demonstration library\n",
      "\n",
      "FUNCTIONS\n",
      "    polynom(a, b, c)\n",
      "        Compute the polygon of order two\n",
      "        :param a:a value of the polynom\n",
      "        :type a: float\n",
      "        :param b: b value of the polynom\n",
      "        :type b: float\n",
      "        :param c: c value of the polynom\n",
      "        :type c: float\n",
      "    \n",
      "    pow2(x)\n",
      "        Return the square of x\n",
      "        :param x: input value\n",
      "        :type x: float\n",
      "    \n",
      "    sqrt(x)\n",
      "        Return the square root of x\n",
      "    \n",
      "    test()\n",
      "        Test the library\n",
      "\n",
      "DATA\n",
      "    __authors__ = ['Pierre Knobel', 'Jerome Kieffer', 'Henri Payno', 'Arma...\n",
      "    __license__ = 'MIT'\n",
      "\n",
      "DATE\n",
      "    17/11/2016\n",
      "\n",
      "FILE\n",
      "    /mntdirect/_scisoft/users/kieffer/workspace/silx-training/python/python/mymodule.py\n",
      "\n",
      "\n"
     ]
    }
   ],
   "source": [
    "help(mymodule)"
   ]
  },
  {
   "cell_type": "markdown",
   "metadata": {},
   "source": [
    "## Exercise\n",
    "\n",
    "0. create a new file exercise.py, set file encoding and documentation\n",
    "\n",
    "1. add a function into this file like polynom(a, b, c) defined previously and write a test to validate it is working.\n",
    "\n",
    "2. execute this file as a script:\n",
    "    - using:\n",
    "```        if __name__ == '__main__':\n",
    "            # operations to be executed\n",
    "```\n",
    "    - execute python3 exercise.py\n",
    "\n",
    "3. load this module from a python console (i.e from the notebook ... ) and import your module. \n",
    "\n",
    "4. execute the function from the console and run the test.\n",
    "\n",
    "## Standard modules\n",
    "\n",
    "\n",
    "\"Batteries included philosophy\"\n",
    "\n",
    "- Modules sys, os, shutil, glob, copy\n",
    "- Modules string, re, collections\n",
    "- Modules math, random, decimal\n",
    "- Module time, datetime\n",
    "- Internet access with email, urllib2, smtplib\n",
    "- Multi-core programming with multiprocessing, threading, thread\n",
    "- Handle compressed archives with gzip, bz2, zlib, zipfile, tarfile\n",
    "- Execute another program with subprocess, shlex\n",
    "- Quality control with unittest and doctest\n",
    "- Performance control with timeit, profile and cProfile\n",
    "- Logging capabilities: logging\n",
    "\n",
    "\n",
    "## Non standard modules\n",
    "\n",
    "- General purpose mathematics libraries:\n",
    "    - NumPy\n",
    "    - SciPy\n",
    "- Input/Output libraries to handle data acquired at ESRF\n",
    "    - Silx\n",
    "    - EdfFile/SpecFile\n",
    "    - FabIO\n",
    "    - H5py\n",
    "- Visualization libraries (curves, images, ...)\n",
    "    - Matplotlib\n",
    "    - Silx\n",
    "- Image handling library:\n",
    "    - Python Imaging Library (PIL → Pillow)\n",
    "\n",
    "They will be introduced this afternoon.\n",
    "\n",
    "# Documentation \n",
    "\n",
    "Doc-strings can be used to generate automatically the documentation using tools like `Sphinx`."
   ]
  }
 ],
 "metadata": {
  "kernelspec": {
   "display_name": "Python 3",
   "language": "python",
   "name": "python3"
  },
  "language_info": {
   "codemirror_mode": {
    "name": "ipython",
    "version": 3
   },
   "file_extension": ".py",
   "mimetype": "text/x-python",
   "name": "python",
   "nbconvert_exporter": "python",
   "pygments_lexer": "ipython3",
   "version": "3.5.3"
  }
 },
 "nbformat": 4,
 "nbformat_minor": 2
}
